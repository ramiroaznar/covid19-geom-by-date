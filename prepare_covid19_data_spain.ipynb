{
  "nbformat": 4,
  "nbformat_minor": 0,
  "metadata": {
    "colab": {
      "name": "prepare-covid19-data-spain.ipynb",
      "provenance": []
    },
    "kernelspec": {
      "name": "python3",
      "display_name": "Python 3"
    }
  },
  "cells": [
    {
      "cell_type": "markdown",
      "metadata": {
        "id": "CxPkIRLeMSbc",
        "colab_type": "text"
      },
      "source": [
        "### COVID-19 data preparation and normalization\n",
        "\n",
        "* Author: Ramiro Aznar\n",
        "* Data Source: [Datadista](https://github.com/datadista/datasets/tree/master/COVID%2019)\n",
        "* Last update: 2020-03-15"
      ]
    },
    {
      "cell_type": "code",
      "metadata": {
        "id": "BeOl88rA1V18",
        "colab_type": "code",
        "colab": {}
      },
      "source": [
        "!pip install cartoframes"
      ],
      "execution_count": 0,
      "outputs": []
    },
    {
      "cell_type": "code",
      "metadata": {
        "id": "AXSQa3tSrP-h",
        "colab_type": "code",
        "colab": {}
      },
      "source": [
        "import pandas as pd"
      ],
      "execution_count": 0,
      "outputs": []
    },
    {
      "cell_type": "markdown",
      "metadata": {
        "id": "mX24h2GDMrid",
        "colab_type": "text"
      },
      "source": [
        "### 1 | Get data"
      ]
    },
    {
      "cell_type": "code",
      "metadata": {
        "id": "mQwhv55Jrfh9",
        "colab_type": "code",
        "colab": {}
      },
      "source": [
        "url = \"https://raw.githubusercontent.com/datadista/datasets/master/COVID%2019/ccaa_covid19_{}.csv\"\n",
        "\n",
        "casos = pd.read_csv(url.format('casos'), index_col=0)\n",
        "fallecidos = pd.read_csv(url.format('fallecidos'), index_col=0)"
      ],
      "execution_count": 0,
      "outputs": []
    },
    {
      "cell_type": "code",
      "metadata": {
        "id": "cnTap9sPrpYB",
        "colab_type": "code",
        "colab": {
          "base_uri": "https://localhost:8080/",
          "height": 235
        },
        "outputId": "486090ab-84ec-4b21-92d7-344d19bb6ea1"
      },
      "source": [
        "casos.head()"
      ],
      "execution_count": 32,
      "outputs": [
        {
          "output_type": "execute_result",
          "data": {
            "text/html": [
              "<div>\n",
              "<style scoped>\n",
              "    .dataframe tbody tr th:only-of-type {\n",
              "        vertical-align: middle;\n",
              "    }\n",
              "\n",
              "    .dataframe tbody tr th {\n",
              "        vertical-align: top;\n",
              "    }\n",
              "\n",
              "    .dataframe thead th {\n",
              "        text-align: right;\n",
              "    }\n",
              "</style>\n",
              "<table border=\"1\" class=\"dataframe\">\n",
              "  <thead>\n",
              "    <tr style=\"text-align: right;\">\n",
              "      <th></th>\n",
              "      <th>CCAA</th>\n",
              "      <th>27/02/2020</th>\n",
              "      <th>28/02/2020</th>\n",
              "      <th>02/03/2020</th>\n",
              "      <th>03/03/2020</th>\n",
              "      <th>04/03/2020</th>\n",
              "      <th>05/03/2020</th>\n",
              "      <th>06/03/2020</th>\n",
              "      <th>09/03/2020</th>\n",
              "      <th>10/03/2020</th>\n",
              "      <th>11/03/2020</th>\n",
              "      <th>12/03/2020</th>\n",
              "      <th>13/03/2020</th>\n",
              "      <th>14/03/2020</th>\n",
              "      <th>15/03/2020</th>\n",
              "    </tr>\n",
              "    <tr>\n",
              "      <th>cod_ine</th>\n",
              "      <th></th>\n",
              "      <th></th>\n",
              "      <th></th>\n",
              "      <th></th>\n",
              "      <th></th>\n",
              "      <th></th>\n",
              "      <th></th>\n",
              "      <th></th>\n",
              "      <th></th>\n",
              "      <th></th>\n",
              "      <th></th>\n",
              "      <th></th>\n",
              "      <th></th>\n",
              "      <th></th>\n",
              "      <th></th>\n",
              "    </tr>\n",
              "  </thead>\n",
              "  <tbody>\n",
              "    <tr>\n",
              "      <th>1</th>\n",
              "      <td>Andalucía</td>\n",
              "      <td>1</td>\n",
              "      <td>6</td>\n",
              "      <td>12</td>\n",
              "      <td>13</td>\n",
              "      <td>13</td>\n",
              "      <td>12</td>\n",
              "      <td>21</td>\n",
              "      <td>54</td>\n",
              "      <td>71</td>\n",
              "      <td>90</td>\n",
              "      <td>115</td>\n",
              "      <td>219</td>\n",
              "      <td>269</td>\n",
              "      <td>437</td>\n",
              "    </tr>\n",
              "    <tr>\n",
              "      <th>2</th>\n",
              "      <td>Aragón</td>\n",
              "      <td>0</td>\n",
              "      <td>0</td>\n",
              "      <td>0</td>\n",
              "      <td>0</td>\n",
              "      <td>0</td>\n",
              "      <td>1</td>\n",
              "      <td>6</td>\n",
              "      <td>13</td>\n",
              "      <td>38</td>\n",
              "      <td>45</td>\n",
              "      <td>64</td>\n",
              "      <td>80</td>\n",
              "      <td>80</td>\n",
              "      <td>147</td>\n",
              "    </tr>\n",
              "    <tr>\n",
              "      <th>3</th>\n",
              "      <td>Asturias</td>\n",
              "      <td>0</td>\n",
              "      <td>0</td>\n",
              "      <td>1</td>\n",
              "      <td>1</td>\n",
              "      <td>2</td>\n",
              "      <td>5</td>\n",
              "      <td>5</td>\n",
              "      <td>7</td>\n",
              "      <td>22</td>\n",
              "      <td>32</td>\n",
              "      <td>47</td>\n",
              "      <td>67</td>\n",
              "      <td>92</td>\n",
              "      <td>137</td>\n",
              "    </tr>\n",
              "    <tr>\n",
              "      <th>4</th>\n",
              "      <td>Baleares</td>\n",
              "      <td>1</td>\n",
              "      <td>1</td>\n",
              "      <td>2</td>\n",
              "      <td>2</td>\n",
              "      <td>5</td>\n",
              "      <td>6</td>\n",
              "      <td>6</td>\n",
              "      <td>11</td>\n",
              "      <td>13</td>\n",
              "      <td>16</td>\n",
              "      <td>22</td>\n",
              "      <td>30</td>\n",
              "      <td>28</td>\n",
              "      <td>28</td>\n",
              "    </tr>\n",
              "    <tr>\n",
              "      <th>5</th>\n",
              "      <td>Canarias</td>\n",
              "      <td>6</td>\n",
              "      <td>6</td>\n",
              "      <td>7</td>\n",
              "      <td>7</td>\n",
              "      <td>7</td>\n",
              "      <td>8</td>\n",
              "      <td>11</td>\n",
              "      <td>22</td>\n",
              "      <td>25</td>\n",
              "      <td>37</td>\n",
              "      <td>51</td>\n",
              "      <td>70</td>\n",
              "      <td>90</td>\n",
              "      <td>109</td>\n",
              "    </tr>\n",
              "  </tbody>\n",
              "</table>\n",
              "</div>"
            ],
            "text/plain": [
              "              CCAA  27/02/2020  28/02/2020  ...  13/03/2020  14/03/2020  15/03/2020\n",
              "cod_ine                                     ...                                    \n",
              "1        Andalucía           1           6  ...         219         269         437\n",
              "2           Aragón           0           0  ...          80          80         147\n",
              "3         Asturias           0           0  ...          67          92         137\n",
              "4         Baleares           1           1  ...          30          28          28\n",
              "5         Canarias           6           6  ...          70          90         109\n",
              "\n",
              "[5 rows x 15 columns]"
            ]
          },
          "metadata": {
            "tags": []
          },
          "execution_count": 32
        }
      ]
    },
    {
      "cell_type": "code",
      "metadata": {
        "id": "PIzdftSdtEOQ",
        "colab_type": "code",
        "colab": {
          "base_uri": "https://localhost:8080/",
          "height": 235
        },
        "outputId": "bf5fa44b-9e25-4b62-c180-d00b8ab8c02f"
      },
      "source": [
        "fallecidos.head()"
      ],
      "execution_count": 69,
      "outputs": [
        {
          "output_type": "execute_result",
          "data": {
            "text/html": [
              "<div>\n",
              "<style scoped>\n",
              "    .dataframe tbody tr th:only-of-type {\n",
              "        vertical-align: middle;\n",
              "    }\n",
              "\n",
              "    .dataframe tbody tr th {\n",
              "        vertical-align: top;\n",
              "    }\n",
              "\n",
              "    .dataframe thead th {\n",
              "        text-align: right;\n",
              "    }\n",
              "</style>\n",
              "<table border=\"1\" class=\"dataframe\">\n",
              "  <thead>\n",
              "    <tr style=\"text-align: right;\">\n",
              "      <th></th>\n",
              "      <th>CCAA</th>\n",
              "      <th>03/03/2020</th>\n",
              "      <th>04/03/2020</th>\n",
              "      <th>05/03/2020</th>\n",
              "      <th>06/03/2020</th>\n",
              "      <th>09/03/2020</th>\n",
              "      <th>10/03/2020</th>\n",
              "      <th>11/03/2020</th>\n",
              "      <th>12/03/2020</th>\n",
              "      <th>13/03/2020</th>\n",
              "      <th>14/03/2020</th>\n",
              "      <th>15/03/2020</th>\n",
              "    </tr>\n",
              "    <tr>\n",
              "      <th>cod_ine</th>\n",
              "      <th></th>\n",
              "      <th></th>\n",
              "      <th></th>\n",
              "      <th></th>\n",
              "      <th></th>\n",
              "      <th></th>\n",
              "      <th></th>\n",
              "      <th></th>\n",
              "      <th></th>\n",
              "      <th></th>\n",
              "      <th></th>\n",
              "      <th></th>\n",
              "    </tr>\n",
              "  </thead>\n",
              "  <tbody>\n",
              "    <tr>\n",
              "      <th>1</th>\n",
              "      <td>Andalucía</td>\n",
              "      <td>0</td>\n",
              "      <td>0</td>\n",
              "      <td>0</td>\n",
              "      <td>0</td>\n",
              "      <td>0</td>\n",
              "      <td>0</td>\n",
              "      <td>0</td>\n",
              "      <td>0</td>\n",
              "      <td>0</td>\n",
              "      <td>2</td>\n",
              "      <td>6</td>\n",
              "    </tr>\n",
              "    <tr>\n",
              "      <th>2</th>\n",
              "      <td>Aragón</td>\n",
              "      <td>0</td>\n",
              "      <td>0</td>\n",
              "      <td>0</td>\n",
              "      <td>1</td>\n",
              "      <td>1</td>\n",
              "      <td>3</td>\n",
              "      <td>4</td>\n",
              "      <td>6</td>\n",
              "      <td>7</td>\n",
              "      <td>7</td>\n",
              "      <td>7</td>\n",
              "    </tr>\n",
              "    <tr>\n",
              "      <th>3</th>\n",
              "      <td>Asturias</td>\n",
              "      <td>0</td>\n",
              "      <td>0</td>\n",
              "      <td>0</td>\n",
              "      <td>0</td>\n",
              "      <td>0</td>\n",
              "      <td>0</td>\n",
              "      <td>0</td>\n",
              "      <td>1</td>\n",
              "      <td>1</td>\n",
              "      <td>1</td>\n",
              "      <td>1</td>\n",
              "    </tr>\n",
              "    <tr>\n",
              "      <th>4</th>\n",
              "      <td>Baleares</td>\n",
              "      <td>0</td>\n",
              "      <td>0</td>\n",
              "      <td>0</td>\n",
              "      <td>0</td>\n",
              "      <td>0</td>\n",
              "      <td>0</td>\n",
              "      <td>0</td>\n",
              "      <td>1</td>\n",
              "      <td>1</td>\n",
              "      <td>1</td>\n",
              "      <td>1</td>\n",
              "    </tr>\n",
              "    <tr>\n",
              "      <th>5</th>\n",
              "      <td>Canarias</td>\n",
              "      <td>0</td>\n",
              "      <td>0</td>\n",
              "      <td>0</td>\n",
              "      <td>0</td>\n",
              "      <td>0</td>\n",
              "      <td>0</td>\n",
              "      <td>0</td>\n",
              "      <td>0</td>\n",
              "      <td>0</td>\n",
              "      <td>1</td>\n",
              "      <td>1</td>\n",
              "    </tr>\n",
              "  </tbody>\n",
              "</table>\n",
              "</div>"
            ],
            "text/plain": [
              "              CCAA  03/03/2020  04/03/2020  ...  13/03/2020  14/03/2020  15/03/2020\n",
              "cod_ine                                     ...                                    \n",
              "1        Andalucía           0           0  ...           0           2           6\n",
              "2           Aragón           0           0  ...           7           7           7\n",
              "3         Asturias           0           0  ...           1           1           1\n",
              "4         Baleares           0           0  ...           1           1           1\n",
              "5         Canarias           0           0  ...           0           1           1\n",
              "\n",
              "[5 rows x 12 columns]"
            ]
          },
          "metadata": {
            "tags": []
          },
          "execution_count": 69
        }
      ]
    },
    {
      "cell_type": "markdown",
      "metadata": {
        "id": "sNYWW0zpMw7c",
        "colab_type": "text"
      },
      "source": [
        "## 2 | Import data into CARTO"
      ]
    },
    {
      "cell_type": "code",
      "metadata": {
        "id": "2ph-c6093S1f",
        "colab_type": "code",
        "colab": {
          "resources": {
            "http://localhost:8080/nbextensions/google.colab/files.js": {
              "data": "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",
              "ok": true,
              "headers": [
                [
                  "content-type",
                  "application/javascript"
                ]
              ],
              "status": 200,
              "status_text": ""
            }
          },
          "base_uri": "https://localhost:8080/",
          "height": 74
        },
        "outputId": "a166e359-eb26-4798-d248-be649d22b7f2"
      },
      "source": [
        "from google.colab import files\n",
        "uploaded = files.upload()"
      ],
      "execution_count": 47,
      "outputs": [
        {
          "output_type": "display_data",
          "data": {
            "text/html": [
              "\n",
              "     <input type=\"file\" id=\"files-c89a0bb5-948c-41d0-b35b-c0bef92c4b17\" name=\"files[]\" multiple disabled />\n",
              "     <output id=\"result-c89a0bb5-948c-41d0-b35b-c0bef92c4b17\">\n",
              "      Upload widget is only available when the cell has been executed in the\n",
              "      current browser session. Please rerun this cell to enable.\n",
              "      </output>\n",
              "      <script src=\"/nbextensions/google.colab/files.js\"></script> "
            ],
            "text/plain": [
              "<IPython.core.display.HTML object>"
            ]
          },
          "metadata": {
            "tags": []
          }
        },
        {
          "output_type": "stream",
          "text": [
            "Saving creds.json to creds.json\n"
          ],
          "name": "stdout"
        }
      ]
    },
    {
      "cell_type": "code",
      "metadata": {
        "id": "hJTrx1hD1bQv",
        "colab_type": "code",
        "colab": {}
      },
      "source": [
        "from cartoframes.auth import set_default_credentials\n",
        "from cartoframes import to_carto, read_carto"
      ],
      "execution_count": 0,
      "outputs": []
    },
    {
      "cell_type": "code",
      "metadata": {
        "id": "S4U4pYR54QcC",
        "colab_type": "code",
        "colab": {}
      },
      "source": [
        "set_default_credentials('creds.json')"
      ],
      "execution_count": 0,
      "outputs": []
    },
    {
      "cell_type": "code",
      "metadata": {
        "id": "KrxEZJ923cEk",
        "colab_type": "code",
        "colab": {}
      },
      "source": [
        "to_carto(fallecidos, 'fallecidos', if_exists='replace')\n",
        "to_carto(casos, 'casos', if_exists='replace')"
      ],
      "execution_count": 0,
      "outputs": []
    },
    {
      "cell_type": "markdown",
      "metadata": {
        "id": "c75Rq4RbM3o6",
        "colab_type": "text"
      },
      "source": [
        "## 3 | Unnest date columns and normalize values"
      ]
    },
    {
      "cell_type": "code",
      "metadata": {
        "id": "ra6cZnAu446V",
        "colab_type": "code",
        "colab": {}
      },
      "source": [
        "query = '''\n",
        "with data as (\n",
        "  select \n",
        "     d.cartodb_id as original_id,\n",
        "     to_timestamp(unnest(array['03/03/2020', '04/03/2020', '05/03/2020', '06/03/2020',\n",
        "       '09/03/2020', '10/03/2020', '11/03/2020', '12/03/2020', '13/03/2020',\n",
        "       '14/03/2020', '15/03/2020']), 'DD/MM/YYYY') AS date,\n",
        "     unnest(array[d._03_03_2020, d._04_03_2020, d._05_03_2020, d._06_03_2020,\n",
        "       d._09_03_2020, d._10_03_2020, d._11_03_2020, d._12_03_2020, d._13_03_2020,\n",
        "       d._14_03_2020, d._15_03_2020\n",
        "]) AS value,\n",
        "     d.ccaa,\n",
        "     s.the_geom,\n",
        "     s.population,\n",
        "     'Datadista' as source,\n",
        "     'https://github.com/datadista/datasets/tree/master/COVID%2019' as source_url\n",
        "   from \n",
        "    {} d,\n",
        "    spain_regions s\n",
        "    where d.ccaa = s.nom_ccaa)\n",
        "    select *, (value/population) as value_density from data'''\n",
        "\n",
        "# spain_regions is a dataset with ccaa geometries and population from INE"
      ],
      "execution_count": 0,
      "outputs": []
    },
    {
      "cell_type": "code",
      "metadata": {
        "id": "yI_rOtam8alQ",
        "colab_type": "code",
        "colab": {}
      },
      "source": [
        "fallecidos_df = read_carto(query.format('fallecidos'))"
      ],
      "execution_count": 0,
      "outputs": []
    },
    {
      "cell_type": "code",
      "metadata": {
        "id": "Nt1n5g0w8p15",
        "colab_type": "code",
        "colab": {
          "base_uri": "https://localhost:8080/",
          "height": 419
        },
        "outputId": "620d606b-0f60-4494-fe9f-00e208da9787"
      },
      "source": [
        "fallecidos_df"
      ],
      "execution_count": 120,
      "outputs": [
        {
          "output_type": "execute_result",
          "data": {
            "text/html": [
              "<div>\n",
              "<style scoped>\n",
              "    .dataframe tbody tr th:only-of-type {\n",
              "        vertical-align: middle;\n",
              "    }\n",
              "\n",
              "    .dataframe tbody tr th {\n",
              "        vertical-align: top;\n",
              "    }\n",
              "\n",
              "    .dataframe thead th {\n",
              "        text-align: right;\n",
              "    }\n",
              "</style>\n",
              "<table border=\"1\" class=\"dataframe\">\n",
              "  <thead>\n",
              "    <tr style=\"text-align: right;\">\n",
              "      <th></th>\n",
              "      <th>original_id</th>\n",
              "      <th>date</th>\n",
              "      <th>value</th>\n",
              "      <th>ccaa</th>\n",
              "      <th>the_geom</th>\n",
              "      <th>population</th>\n",
              "      <th>source</th>\n",
              "      <th>source_url</th>\n",
              "      <th>value_density</th>\n",
              "    </tr>\n",
              "  </thead>\n",
              "  <tbody>\n",
              "    <tr>\n",
              "      <th>0</th>\n",
              "      <td>1</td>\n",
              "      <td>2020-03-03 00:00:00+00</td>\n",
              "      <td>0</td>\n",
              "      <td>Andalucía</td>\n",
              "      <td>MULTIPOLYGON (((-5.03541 38.72619, -5.03274 38...</td>\n",
              "      <td>8414240.0</td>\n",
              "      <td>Datadista</td>\n",
              "      <td>https://github.com/datadista/datasets/tree/mas...</td>\n",
              "      <td>0.000000</td>\n",
              "    </tr>\n",
              "    <tr>\n",
              "      <th>1</th>\n",
              "      <td>1</td>\n",
              "      <td>2020-03-04 00:00:00+00</td>\n",
              "      <td>0</td>\n",
              "      <td>Andalucía</td>\n",
              "      <td>MULTIPOLYGON (((-5.03541 38.72619, -5.03274 38...</td>\n",
              "      <td>8414240.0</td>\n",
              "      <td>Datadista</td>\n",
              "      <td>https://github.com/datadista/datasets/tree/mas...</td>\n",
              "      <td>0.000000</td>\n",
              "    </tr>\n",
              "    <tr>\n",
              "      <th>2</th>\n",
              "      <td>1</td>\n",
              "      <td>2020-03-05 00:00:00+00</td>\n",
              "      <td>0</td>\n",
              "      <td>Andalucía</td>\n",
              "      <td>MULTIPOLYGON (((-5.03541 38.72619, -5.03274 38...</td>\n",
              "      <td>8414240.0</td>\n",
              "      <td>Datadista</td>\n",
              "      <td>https://github.com/datadista/datasets/tree/mas...</td>\n",
              "      <td>0.000000</td>\n",
              "    </tr>\n",
              "    <tr>\n",
              "      <th>3</th>\n",
              "      <td>1</td>\n",
              "      <td>2020-03-06 00:00:00+00</td>\n",
              "      <td>0</td>\n",
              "      <td>Andalucía</td>\n",
              "      <td>MULTIPOLYGON (((-5.03541 38.72619, -5.03274 38...</td>\n",
              "      <td>8414240.0</td>\n",
              "      <td>Datadista</td>\n",
              "      <td>https://github.com/datadista/datasets/tree/mas...</td>\n",
              "      <td>0.000000</td>\n",
              "    </tr>\n",
              "    <tr>\n",
              "      <th>4</th>\n",
              "      <td>1</td>\n",
              "      <td>2020-03-09 00:00:00+00</td>\n",
              "      <td>0</td>\n",
              "      <td>Andalucía</td>\n",
              "      <td>MULTIPOLYGON (((-5.03541 38.72619, -5.03274 38...</td>\n",
              "      <td>8414240.0</td>\n",
              "      <td>Datadista</td>\n",
              "      <td>https://github.com/datadista/datasets/tree/mas...</td>\n",
              "      <td>0.000000</td>\n",
              "    </tr>\n",
              "    <tr>\n",
              "      <th>...</th>\n",
              "      <td>...</td>\n",
              "      <td>...</td>\n",
              "      <td>...</td>\n",
              "      <td>...</td>\n",
              "      <td>...</td>\n",
              "      <td>...</td>\n",
              "      <td>...</td>\n",
              "      <td>...</td>\n",
              "      <td>...</td>\n",
              "    </tr>\n",
              "    <tr>\n",
              "      <th>204</th>\n",
              "      <td>19</td>\n",
              "      <td>2020-03-11 00:00:00+00</td>\n",
              "      <td>2</td>\n",
              "      <td>La Rioja</td>\n",
              "      <td>MULTIPOLYGON (((-2.99723 42.64214, -2.99512 42...</td>\n",
              "      <td>316798.0</td>\n",
              "      <td>Datadista</td>\n",
              "      <td>https://github.com/datadista/datasets/tree/mas...</td>\n",
              "      <td>0.000006</td>\n",
              "    </tr>\n",
              "    <tr>\n",
              "      <th>205</th>\n",
              "      <td>19</td>\n",
              "      <td>2020-03-12 00:00:00+00</td>\n",
              "      <td>2</td>\n",
              "      <td>La Rioja</td>\n",
              "      <td>MULTIPOLYGON (((-2.99723 42.64214, -2.99512 42...</td>\n",
              "      <td>316798.0</td>\n",
              "      <td>Datadista</td>\n",
              "      <td>https://github.com/datadista/datasets/tree/mas...</td>\n",
              "      <td>0.000006</td>\n",
              "    </tr>\n",
              "    <tr>\n",
              "      <th>206</th>\n",
              "      <td>19</td>\n",
              "      <td>2020-03-13 00:00:00+00</td>\n",
              "      <td>2</td>\n",
              "      <td>La Rioja</td>\n",
              "      <td>MULTIPOLYGON (((-2.99723 42.64214, -2.99512 42...</td>\n",
              "      <td>316798.0</td>\n",
              "      <td>Datadista</td>\n",
              "      <td>https://github.com/datadista/datasets/tree/mas...</td>\n",
              "      <td>0.000006</td>\n",
              "    </tr>\n",
              "    <tr>\n",
              "      <th>207</th>\n",
              "      <td>19</td>\n",
              "      <td>2020-03-14 00:00:00+00</td>\n",
              "      <td>3</td>\n",
              "      <td>La Rioja</td>\n",
              "      <td>MULTIPOLYGON (((-2.99723 42.64214, -2.99512 42...</td>\n",
              "      <td>316798.0</td>\n",
              "      <td>Datadista</td>\n",
              "      <td>https://github.com/datadista/datasets/tree/mas...</td>\n",
              "      <td>0.000009</td>\n",
              "    </tr>\n",
              "    <tr>\n",
              "      <th>208</th>\n",
              "      <td>19</td>\n",
              "      <td>2020-03-15 00:00:00+00</td>\n",
              "      <td>3</td>\n",
              "      <td>La Rioja</td>\n",
              "      <td>MULTIPOLYGON (((-2.99723 42.64214, -2.99512 42...</td>\n",
              "      <td>316798.0</td>\n",
              "      <td>Datadista</td>\n",
              "      <td>https://github.com/datadista/datasets/tree/mas...</td>\n",
              "      <td>0.000009</td>\n",
              "    </tr>\n",
              "  </tbody>\n",
              "</table>\n",
              "<p>209 rows × 9 columns</p>\n",
              "</div>"
            ],
            "text/plain": [
              "     original_id  ... value_density\n",
              "0              1  ...      0.000000\n",
              "1              1  ...      0.000000\n",
              "2              1  ...      0.000000\n",
              "3              1  ...      0.000000\n",
              "4              1  ...      0.000000\n",
              "..           ...  ...           ...\n",
              "204           19  ...      0.000006\n",
              "205           19  ...      0.000006\n",
              "206           19  ...      0.000006\n",
              "207           19  ...      0.000009\n",
              "208           19  ...      0.000009\n",
              "\n",
              "[209 rows x 9 columns]"
            ]
          },
          "metadata": {
            "tags": []
          },
          "execution_count": 120
        }
      ]
    },
    {
      "cell_type": "code",
      "metadata": {
        "id": "GvGdSc6HEKxI",
        "colab_type": "code",
        "colab": {}
      },
      "source": [
        "casos_df = read_carto(query.format('casos'))"
      ],
      "execution_count": 0,
      "outputs": []
    },
    {
      "cell_type": "code",
      "metadata": {
        "id": "BJc63_gDETVH",
        "colab_type": "code",
        "colab": {
          "base_uri": "https://localhost:8080/",
          "height": 419
        },
        "outputId": "7c2008c5-8f5d-4565-b55c-8c53437da5f6"
      },
      "source": [
        "casos_df"
      ],
      "execution_count": 122,
      "outputs": [
        {
          "output_type": "execute_result",
          "data": {
            "text/html": [
              "<div>\n",
              "<style scoped>\n",
              "    .dataframe tbody tr th:only-of-type {\n",
              "        vertical-align: middle;\n",
              "    }\n",
              "\n",
              "    .dataframe tbody tr th {\n",
              "        vertical-align: top;\n",
              "    }\n",
              "\n",
              "    .dataframe thead th {\n",
              "        text-align: right;\n",
              "    }\n",
              "</style>\n",
              "<table border=\"1\" class=\"dataframe\">\n",
              "  <thead>\n",
              "    <tr style=\"text-align: right;\">\n",
              "      <th></th>\n",
              "      <th>original_id</th>\n",
              "      <th>date</th>\n",
              "      <th>value</th>\n",
              "      <th>ccaa</th>\n",
              "      <th>the_geom</th>\n",
              "      <th>population</th>\n",
              "      <th>source</th>\n",
              "      <th>source_url</th>\n",
              "      <th>value_density</th>\n",
              "    </tr>\n",
              "  </thead>\n",
              "  <tbody>\n",
              "    <tr>\n",
              "      <th>0</th>\n",
              "      <td>1</td>\n",
              "      <td>2020-03-03 00:00:00+00</td>\n",
              "      <td>13</td>\n",
              "      <td>Andalucía</td>\n",
              "      <td>MULTIPOLYGON (((-5.03541 38.72619, -5.03274 38...</td>\n",
              "      <td>8414240.0</td>\n",
              "      <td>Datadista</td>\n",
              "      <td>https://github.com/datadista/datasets/tree/mas...</td>\n",
              "      <td>0.000002</td>\n",
              "    </tr>\n",
              "    <tr>\n",
              "      <th>1</th>\n",
              "      <td>1</td>\n",
              "      <td>2020-03-04 00:00:00+00</td>\n",
              "      <td>13</td>\n",
              "      <td>Andalucía</td>\n",
              "      <td>MULTIPOLYGON (((-5.03541 38.72619, -5.03274 38...</td>\n",
              "      <td>8414240.0</td>\n",
              "      <td>Datadista</td>\n",
              "      <td>https://github.com/datadista/datasets/tree/mas...</td>\n",
              "      <td>0.000002</td>\n",
              "    </tr>\n",
              "    <tr>\n",
              "      <th>2</th>\n",
              "      <td>1</td>\n",
              "      <td>2020-03-05 00:00:00+00</td>\n",
              "      <td>12</td>\n",
              "      <td>Andalucía</td>\n",
              "      <td>MULTIPOLYGON (((-5.03541 38.72619, -5.03274 38...</td>\n",
              "      <td>8414240.0</td>\n",
              "      <td>Datadista</td>\n",
              "      <td>https://github.com/datadista/datasets/tree/mas...</td>\n",
              "      <td>0.000001</td>\n",
              "    </tr>\n",
              "    <tr>\n",
              "      <th>3</th>\n",
              "      <td>1</td>\n",
              "      <td>2020-03-06 00:00:00+00</td>\n",
              "      <td>21</td>\n",
              "      <td>Andalucía</td>\n",
              "      <td>MULTIPOLYGON (((-5.03541 38.72619, -5.03274 38...</td>\n",
              "      <td>8414240.0</td>\n",
              "      <td>Datadista</td>\n",
              "      <td>https://github.com/datadista/datasets/tree/mas...</td>\n",
              "      <td>0.000002</td>\n",
              "    </tr>\n",
              "    <tr>\n",
              "      <th>4</th>\n",
              "      <td>1</td>\n",
              "      <td>2020-03-09 00:00:00+00</td>\n",
              "      <td>54</td>\n",
              "      <td>Andalucía</td>\n",
              "      <td>MULTIPOLYGON (((-5.03541 38.72619, -5.03274 38...</td>\n",
              "      <td>8414240.0</td>\n",
              "      <td>Datadista</td>\n",
              "      <td>https://github.com/datadista/datasets/tree/mas...</td>\n",
              "      <td>0.000006</td>\n",
              "    </tr>\n",
              "    <tr>\n",
              "      <th>...</th>\n",
              "      <td>...</td>\n",
              "      <td>...</td>\n",
              "      <td>...</td>\n",
              "      <td>...</td>\n",
              "      <td>...</td>\n",
              "      <td>...</td>\n",
              "      <td>...</td>\n",
              "      <td>...</td>\n",
              "      <td>...</td>\n",
              "    </tr>\n",
              "    <tr>\n",
              "      <th>204</th>\n",
              "      <td>19</td>\n",
              "      <td>2020-03-11 00:00:00+00</td>\n",
              "      <td>179</td>\n",
              "      <td>La Rioja</td>\n",
              "      <td>MULTIPOLYGON (((-2.99723 42.64214, -2.99512 42...</td>\n",
              "      <td>316798.0</td>\n",
              "      <td>Datadista</td>\n",
              "      <td>https://github.com/datadista/datasets/tree/mas...</td>\n",
              "      <td>0.000565</td>\n",
              "    </tr>\n",
              "    <tr>\n",
              "      <th>205</th>\n",
              "      <td>19</td>\n",
              "      <td>2020-03-12 00:00:00+00</td>\n",
              "      <td>205</td>\n",
              "      <td>La Rioja</td>\n",
              "      <td>MULTIPOLYGON (((-2.99723 42.64214, -2.99512 42...</td>\n",
              "      <td>316798.0</td>\n",
              "      <td>Datadista</td>\n",
              "      <td>https://github.com/datadista/datasets/tree/mas...</td>\n",
              "      <td>0.000647</td>\n",
              "    </tr>\n",
              "    <tr>\n",
              "      <th>206</th>\n",
              "      <td>19</td>\n",
              "      <td>2020-03-13 00:00:00+00</td>\n",
              "      <td>243</td>\n",
              "      <td>La Rioja</td>\n",
              "      <td>MULTIPOLYGON (((-2.99723 42.64214, -2.99512 42...</td>\n",
              "      <td>316798.0</td>\n",
              "      <td>Datadista</td>\n",
              "      <td>https://github.com/datadista/datasets/tree/mas...</td>\n",
              "      <td>0.000767</td>\n",
              "    </tr>\n",
              "    <tr>\n",
              "      <th>207</th>\n",
              "      <td>19</td>\n",
              "      <td>2020-03-14 00:00:00+00</td>\n",
              "      <td>278</td>\n",
              "      <td>La Rioja</td>\n",
              "      <td>MULTIPOLYGON (((-2.99723 42.64214, -2.99512 42...</td>\n",
              "      <td>316798.0</td>\n",
              "      <td>Datadista</td>\n",
              "      <td>https://github.com/datadista/datasets/tree/mas...</td>\n",
              "      <td>0.000878</td>\n",
              "    </tr>\n",
              "    <tr>\n",
              "      <th>208</th>\n",
              "      <td>19</td>\n",
              "      <td>2020-03-15 00:00:00+00</td>\n",
              "      <td>300</td>\n",
              "      <td>La Rioja</td>\n",
              "      <td>MULTIPOLYGON (((-2.99723 42.64214, -2.99512 42...</td>\n",
              "      <td>316798.0</td>\n",
              "      <td>Datadista</td>\n",
              "      <td>https://github.com/datadista/datasets/tree/mas...</td>\n",
              "      <td>0.000947</td>\n",
              "    </tr>\n",
              "  </tbody>\n",
              "</table>\n",
              "<p>209 rows × 9 columns</p>\n",
              "</div>"
            ],
            "text/plain": [
              "     original_id  ... value_density\n",
              "0              1  ...      0.000002\n",
              "1              1  ...      0.000002\n",
              "2              1  ...      0.000001\n",
              "3              1  ...      0.000002\n",
              "4              1  ...      0.000006\n",
              "..           ...  ...           ...\n",
              "204           19  ...      0.000565\n",
              "205           19  ...      0.000647\n",
              "206           19  ...      0.000767\n",
              "207           19  ...      0.000878\n",
              "208           19  ...      0.000947\n",
              "\n",
              "[209 rows x 9 columns]"
            ]
          },
          "metadata": {
            "tags": []
          },
          "execution_count": 122
        }
      ]
    },
    {
      "cell_type": "code",
      "metadata": {
        "id": "GLWFNmQZFAq7",
        "colab_type": "code",
        "colab": {
          "base_uri": "https://localhost:8080/",
          "height": 34
        },
        "outputId": "dda6e734-3518-49a4-a114-7d9108252c31"
      },
      "source": [
        "to_carto(fallecidos_df, 'fallecidos_df', if_exists='replace', geom_col='the_geom')"
      ],
      "execution_count": 123,
      "outputs": [
        {
          "output_type": "stream",
          "text": [
            "Success! Data uploaded to table \"fallecidos_df\" correctly\n"
          ],
          "name": "stdout"
        }
      ]
    },
    {
      "cell_type": "code",
      "metadata": {
        "id": "zNgw-rwHIrhr",
        "colab_type": "code",
        "colab": {
          "base_uri": "https://localhost:8080/",
          "height": 34
        },
        "outputId": "b7a90a24-c5cf-4456-d406-8359c69785ec"
      },
      "source": [
        "to_carto(casos_df, 'casos_df', if_exists='replace', geom_col='the_geom')"
      ],
      "execution_count": 124,
      "outputs": [
        {
          "output_type": "stream",
          "text": [
            "Success! Data uploaded to table \"casos_df\" correctly\n"
          ],
          "name": "stdout"
        }
      ]
    },
    {
      "cell_type": "markdown",
      "metadata": {
        "id": "AZgwK_RaNCMr",
        "colab_type": "text"
      },
      "source": [
        "## 4 | Get centroids"
      ]
    },
    {
      "cell_type": "code",
      "metadata": {
        "id": "dSCCJNwGKxA7",
        "colab_type": "code",
        "colab": {}
      },
      "source": [
        "query_centroids = '''\n",
        "    select  original_id,\n",
        "            date,\n",
        "            value,\n",
        "            ccaa,\n",
        "            st_y(st_pointonsurface(the_geom)) as latitude,\n",
        "            st_x(st_pointonsurface(the_geom)) as longitude,\n",
        "            st_pointonsurface(the_geom) as the_geom,\n",
        "            population,\n",
        "            source,\n",
        "            source_url,\n",
        "            value_density\n",
        "    from {}_df\n",
        "'''"
      ],
      "execution_count": 0,
      "outputs": []
    },
    {
      "cell_type": "code",
      "metadata": {
        "id": "ZM1meKHOKxNi",
        "colab_type": "code",
        "colab": {}
      },
      "source": [
        "fallecidos_centroids = read_carto(query_centroids.format('fallecidos'))"
      ],
      "execution_count": 0,
      "outputs": []
    },
    {
      "cell_type": "code",
      "metadata": {
        "id": "GkXJopSBLXfb",
        "colab_type": "code",
        "colab": {}
      },
      "source": [
        "to_carto(fallecidos_centroids, 'fallecidos_centroids', if_exists='replace', geom_col='the_geom')"
      ],
      "execution_count": 0,
      "outputs": []
    },
    {
      "cell_type": "code",
      "metadata": {
        "id": "YgxEUeCtLh5H",
        "colab_type": "code",
        "colab": {}
      },
      "source": [
        "casos_centroids = read_carto(query_centroids.format('casos'))"
      ],
      "execution_count": 0,
      "outputs": []
    },
    {
      "cell_type": "code",
      "metadata": {
        "id": "OZh0txDXLiKi",
        "colab_type": "code",
        "colab": {}
      },
      "source": [
        "to_carto(casos_centroids, 'casos_centroids', if_exists='replace', geom_col='the_geom')"
      ],
      "execution_count": 0,
      "outputs": []
    }
  ]
}